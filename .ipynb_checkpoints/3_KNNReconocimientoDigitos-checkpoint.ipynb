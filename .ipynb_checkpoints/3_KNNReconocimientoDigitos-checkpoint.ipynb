{
 "cells": [
  {
   "cell_type": "markdown",
   "metadata": {},
   "source": [
    "# KNN reconocimiento de dígitos\n",
    "\n",
    "A continuación se realizará un modelo para predecir cuando un caracter escrito a mano es 4, y otro modelo para predecir cuando es 6. Se utilizará el dataset de dígitos de sklearn para este proposito, y el algoritmo de KNN.\n",
    "\n",
    "Para inciar, ralizamos los imports necesarios: en este caso, el dataset de digitos, metricas de sklearn (con el fin de validar las métricas que se calcularán), neighbors para KNN, y numpy para manipular los datos."
   ]
  },
  {
   "cell_type": "code",
   "execution_count": 1,
   "metadata": {},
   "outputs": [],
   "source": [
    "from sklearn.datasets import load_digits\n",
    "from sklearn.metrics import accuracy_score\n",
    "import numpy as np\n",
    "from sklearn import neighbors, datasets, model_selection, metrics"
   ]
  },
  {
   "cell_type": "markdown",
   "metadata": {},
   "source": [
    "## Preparación de los datos\n",
    "\n",
    "Cargamos los dígitos y construimos las salidas para el modelo predictivo de 4 y de 6 (y4 y y6 respectivamente). Las entradas x se convertiran de matriz a vector, y serán iguales en ambos casos por lo que no es necesario realizar ninguna preparación. Las salidas se llevaran a una forma binaria, uno si corresponde al número que se va a predecir, cero en caso contrario."
   ]
  },
  {
   "cell_type": "code",
   "execution_count": 6,
   "metadata": {},
   "outputs": [
    {
     "name": "stdout",
     "output_type": "stream",
     "text": [
      "Se han construido las salidas...\n"
     ]
    }
   ],
   "source": [
    "# Obtener todos los digitos\n",
    "digits = load_digits()\n",
    "# Obtener las entradas\n",
    "x = digits.images\n",
    "# se reducen las dimensiones\n",
    "x = digits.images.reshape((len(x), -1))\n",
    "# Obtener las salidas\n",
    "y = digits.target\n",
    "y4 = []\n",
    "y6 = []\n",
    "for i in range(0,len(x)):\n",
    "    if(y[i]==4):\n",
    "        y4.append(1)\n",
    "        y6.append(0)\n",
    "    elif(y[i]==6):\n",
    "        y4.append(0)\n",
    "        y6.append(1)\n",
    "    else:\n",
    "        y4.append(0)\n",
    "        y6.append(0)\n",
    "print('Se han construido las salidas...')"
   ]
  },
  {
   "cell_type": "markdown",
   "metadata": {},
   "source": [
    "## Modelo predictivo 4\n",
    "\n",
    "Hacemos split de (x) y (y4) en train y test para entrenar y probar el modelo con KNN respectivamente: Se utilizará 80% de los datos para entrenar y el 20% restante para evaluar"
   ]
  },
  {
   "cell_type": "code",
   "execution_count": 7,
   "metadata": {},
   "outputs": [],
   "source": [
    "x_train, x_test, y_train, y_test = model_selection.train_test_split(x, y4, test_size=0.2)"
   ]
  },
  {
   "cell_type": "markdown",
   "metadata": {},
   "source": [
    "Posteriormente, creamos el modelo y realizamos las predicciones"
   ]
  },
  {
   "cell_type": "code",
   "execution_count": 8,
   "metadata": {},
   "outputs": [],
   "source": [
    "knn = neighbors.KNeighborsClassifier(n_neighbors=10) # Creamos una instancia de Neighbours Classifier\n",
    "knn.fit(x_train, y_train) # Generamos el modelo con los datos y resultados de entrenamiento\n",
    "y_pred = knn.predict(x_test) # realizamos una predicción para el 4"
   ]
  },
  {
   "cell_type": "markdown",
   "metadata": {},
   "source": [
    "Finalmente, calculamos el accuracy obtenido en las predicciones"
   ]
  },
  {
   "cell_type": "code",
   "execution_count": 9,
   "metadata": {},
   "outputs": [
    {
     "name": "stdout",
     "output_type": "stream",
     "text": [
      "accuracy:   1.0\n"
     ]
    }
   ],
   "source": [
    "print('accuracy:   '+ str(accuracy_score(y_test,y_pred)))"
   ]
  },
  {
   "cell_type": "markdown",
   "metadata": {},
   "source": [
    "## Modelo predictivo 6\n",
    "\n",
    "Hacemos split de (x) y (y6) en train y test para entrenar y probar el modelo con KNN respectivamente: se utilizará 80% de los datos para entrenar y el 20% restante para evaluar"
   ]
  },
  {
   "cell_type": "code",
   "execution_count": 10,
   "metadata": {},
   "outputs": [],
   "source": [
    "x_train, x_test, y_train, y_test = model_selection.train_test_split(x, y6, test_size=0.2)"
   ]
  },
  {
   "cell_type": "markdown",
   "metadata": {},
   "source": [
    "Posteriormente, creamos el modelo y realizamos las predicciones"
   ]
  },
  {
   "cell_type": "code",
   "execution_count": 11,
   "metadata": {},
   "outputs": [],
   "source": [
    "knn = neighbors.KNeighborsClassifier(n_neighbors=10) # Creamos una instancia de Neighbours Classifier\n",
    "knn.fit(x_train, y_train) # Generamos el modelo con los datos y resultados de entrenamiento\n",
    "y_pred = knn.predict(x_test) # realizamos una predicción para el 6"
   ]
  },
  {
   "cell_type": "markdown",
   "metadata": {},
   "source": [
    "Finalmente, calculamos el accuracy obtenido en las predicciones"
   ]
  },
  {
   "cell_type": "code",
   "execution_count": 12,
   "metadata": {},
   "outputs": [
    {
     "name": "stdout",
     "output_type": "stream",
     "text": [
      "accuracy:   0.9944444444444445\n"
     ]
    }
   ],
   "source": [
    "print('accuracy:   '+ str(accuracy_score(y_test,y_pred)))"
   ]
  },
  {
   "cell_type": "markdown",
   "metadata": {},
   "source": [
    "## Modelo predictivo para todos los numeros\n",
    "\n",
    "Hacemos split de (x) y (y) en train y test para entrenar y probar el modelo con KNN respectivamente: se utilizará 80% de los datos para entrenar y el 20% restante para evaluar"
   ]
  },
  {
   "cell_type": "code",
   "execution_count": 13,
   "metadata": {},
   "outputs": [],
   "source": [
    "x_train, x_test, y_train, y_test = model_selection.train_test_split(x, y, test_size=0.2)"
   ]
  },
  {
   "cell_type": "markdown",
   "metadata": {},
   "source": [
    "Posteriormente, creamos el modelo predictivo y realizamos las predicciones"
   ]
  },
  {
   "cell_type": "code",
   "execution_count": 14,
   "metadata": {},
   "outputs": [],
   "source": [
    "knn = neighbors.KNeighborsClassifier(n_neighbors=10) # Creamos una instancia de Neighbours Classifier\n",
    "knn.fit(x_train, y_train) # Generamos el modelo con los datos y resultados de entrenamiento\n",
    "y_pred = knn.predict(x_test) # realizamos una predicción para el 6"
   ]
  },
  {
   "cell_type": "markdown",
   "metadata": {},
   "source": [
    "Finalmente, calculamos el accuracy para cada una de las etiquetas de los numeros. Para esto utilizaremos el clasification report de sklearn."
   ]
  },
  {
   "cell_type": "code",
   "execution_count": 15,
   "metadata": {},
   "outputs": [
    {
     "name": "stdout",
     "output_type": "stream",
     "text": [
      "             precision    recall  f1-score   support\n",
      "\n",
      "          0       1.00      1.00      1.00        22\n",
      "          1       0.88      1.00      0.94        29\n",
      "          2       1.00      1.00      1.00        40\n",
      "          3       0.98      1.00      0.99        42\n",
      "          4       1.00      1.00      1.00        40\n",
      "          5       0.97      1.00      0.98        32\n",
      "          6       1.00      0.97      0.98        31\n",
      "          7       1.00      1.00      1.00        41\n",
      "          8       1.00      0.91      0.95        46\n",
      "          9       0.97      0.95      0.96        37\n",
      "\n",
      "avg / total       0.98      0.98      0.98       360\n",
      "\n"
     ]
    }
   ],
   "source": [
    "class_report = metrics.classification_report(y_test, y_pred) \n",
    "print(class_report)"
   ]
  }
 ],
 "metadata": {
  "kernelspec": {
   "display_name": "Python 3",
   "language": "python",
   "name": "python3"
  },
  "language_info": {
   "codemirror_mode": {
    "name": "ipython",
    "version": 3
   },
   "file_extension": ".py",
   "mimetype": "text/x-python",
   "name": "python",
   "nbconvert_exporter": "python",
   "pygments_lexer": "ipython3",
   "version": "3.6.4"
  }
 },
 "nbformat": 4,
 "nbformat_minor": 2
}
