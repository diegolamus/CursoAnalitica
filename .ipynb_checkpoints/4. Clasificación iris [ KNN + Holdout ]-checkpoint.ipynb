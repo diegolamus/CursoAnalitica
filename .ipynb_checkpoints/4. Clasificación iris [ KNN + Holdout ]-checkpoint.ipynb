{
 "cells": [
  {
   "cell_type": "markdown",
   "metadata": {},
   "source": [
    "# KNN Clasificación de flores de Iris\n",
    "\n",
    "Clasificación de flores de Iris a partir de dataset disponible en Sklearn. Se utilizará KNN para realizar clasificación categórica.\n",
    "\n",
    "Para empezar, se realizan los imports necesarios.\n",
    "\n",
    "3. load_iris, para cargar los datos de las flores iris.\n",
    "4. sklearn neighbors, para\n",
    "5. sklearn metrics, para evaluar el desempeño del modelo"
   ]
  },
  {
   "cell_type": "code",
   "execution_count": 24,
   "metadata": {},
   "outputs": [],
   "source": [
    "from sklearn.datasets import load_iris\n",
    "from sklearn import neighbors, metrics, model_selection"
   ]
  },
  {
   "cell_type": "markdown",
   "metadata": {},
   "source": [
    "## Preparación de los datos\n",
    "\n",
    "Se procede a descargar los datos y acomodarlos para el entrenamieto y la evaluación. Se realizará split de los datos en 80% entrenamiento, 20% evaluación."
   ]
  },
  {
   "cell_type": "code",
   "execution_count": 17,
   "metadata": {},
   "outputs": [],
   "source": [
    "iris = load_iris()\n",
    "x = iris.data\n",
    "y = iris.target\n",
    "x_train, x_test, y_train, y_test = model_selection.train_test_split(x, y, test_size=0.2, random_state=100)"
   ]
  },
  {
   "cell_type": "markdown",
   "metadata": {},
   "source": [
    "## Modelado\n",
    "\n",
    "Se crea el modelo de KNN y se busca el K óptimo ajustandolo a diferente k con los datos de entrenamiento. Luego se crea el modelo con el k óptimo."
   ]
  },
  {
   "cell_type": "code",
   "execution_count": 18,
   "metadata": {},
   "outputs": [
    {
     "name": "stdout",
     "output_type": "stream",
     "text": [
      "Accuracy for 1: 1.0\n",
      "Accuracy for 3: 0.96\n",
      "Accuracy for 5: 0.9666666666666667\n",
      "Accuracy for 7: 0.9733333333333334\n",
      "Accuracy for 9: 0.98\n",
      "Accuracy for 11: 0.9733333333333334\n",
      " \n",
      "Best k: 1 -- accuracy:1.0\n"
     ]
    }
   ],
   "source": [
    "# Encontar el k óptmo\n",
    "ks = [1,3,5,7,9,11]\n",
    "max_acc = 0\n",
    "best_k = 1\n",
    "for k in ks:\n",
    "    knn = neighbors.KNeighborsClassifier(n_neighbors=k) # Creamos una instancia de Neighbours Classifier\n",
    "    knn.fit(x, y) # Generamos el modelo con los datos y resultados de entrenamiento\n",
    "    y_pred = knn.predict(x)\n",
    "    accuracy = metrics.accuracy_score(y,y_pred)\n",
    "    print('Accuracy for ' + str(k)+ ': '+ str(accuracy))\n",
    "    if( accuracy > max_acc):\n",
    "        max_acc = accuracy\n",
    "        best_k = k\n",
    "print(' ')\n",
    "print('Best k: '+ str(best_k) + ' -- accuracy:' + str(max_acc))"
   ]
  },
  {
   "cell_type": "markdown",
   "metadata": {},
   "source": [
    "## HoldOut\n",
    "\n",
    "Encontramos que el mejor k es 1, ahora procedemos a realizar el mismo procedimiento pero con holdout\n"
   ]
  },
  {
   "cell_type": "code",
   "execution_count": 19,
   "metadata": {},
   "outputs": [
    {
     "name": "stdout",
     "output_type": "stream",
     "text": [
      "Accuracy for 1: 1.0\n",
      "Accuracy for 3: 1.0\n",
      "Accuracy for 5: 1.0\n",
      "Accuracy for 7: 1.0\n",
      "Accuracy for 9: 1.0\n",
      "Accuracy for 11: 1.0\n",
      " \n",
      "Best k: 1 -- accuracy:1.0\n"
     ]
    }
   ],
   "source": [
    "ks = [1,3,5,7,9,11]\n",
    "max_acc = 0\n",
    "best_k = 1\n",
    "for k in ks: \n",
    "    knn = neighbors.KNeighborsClassifier(n_neighbors=k) # Creamos una instancia de Neighbours Classifier\n",
    "    knn.fit(x_train, y_train) # Generamos el modelo con los datos y resultados de entrenamiento\n",
    "    y_pred = knn.predict(x_test)\n",
    "    accuracy = metrics.accuracy_score(y_test,y_pred)\n",
    "    print('Accuracy for ' + str(k)+ ': '+ str(accuracy))\n",
    "    if( accuracy > max_acc):\n",
    "        max_acc = accuracy\n",
    "        best_k = k\n",
    "print(' ')\n",
    "print('Best k: '+ str(best_k) + ' -- accuracy:' + str(max_acc))"
   ]
  },
  {
   "cell_type": "markdown",
   "metadata": {},
   "source": [
    "# k Cross validation \n",
    "\n",
    "Encontramos que el mejor k es 1, ahora procedemos a realizar cross validation"
   ]
  },
  {
   "cell_type": "code",
   "execution_count": 25,
   "metadata": {},
   "outputs": [
    {
     "data": {
      "text/plain": [
       "array([1.        , 0.93333333, 1.        , 0.93333333, 0.86666667,\n",
       "       1.        , 0.86666667, 1.        , 1.        , 1.        ])"
      ]
     },
     "execution_count": 25,
     "metadata": {},
     "output_type": "execute_result"
    }
   ],
   "source": [
    "knn = neighbors.KNeighborsClassifier(n_neighbors=1) \n",
    "exactitudes = model_selection.cross_val_score(knn,x,y,cv=10, scoring='accuracy')\n",
    "exactitudes"
   ]
  },
  {
   "cell_type": "code",
   "execution_count": null,
   "metadata": {},
   "outputs": [],
   "source": []
  }
 ],
 "metadata": {
  "kernelspec": {
   "display_name": "Python 3",
   "language": "python",
   "name": "python3"
  },
  "language_info": {
   "codemirror_mode": {
    "name": "ipython",
    "version": 3
   },
   "file_extension": ".py",
   "mimetype": "text/x-python",
   "name": "python",
   "nbconvert_exporter": "python",
   "pygments_lexer": "ipython3",
   "version": "3.6.6"
  }
 },
 "nbformat": 4,
 "nbformat_minor": 2
}
