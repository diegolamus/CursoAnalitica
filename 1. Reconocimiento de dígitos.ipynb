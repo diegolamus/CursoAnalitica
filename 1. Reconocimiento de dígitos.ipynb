{
 "cells": [
  {
   "cell_type": "markdown",
   "metadata": {},
   "source": [
    "# Reconocimiento de dígitos manual\n",
    "\n",
    "A continuación se realizará un modelo para predecir cuando un caracter escrito a mano es 4, y otro modelo para predecir cuando es 6. Se utilizará el dataset de dígitos de sklearn para este proposito.\n",
    "\n",
    "Para inciar, ralizamos los imports necesarios: en este caso, el dataset de digitos, metricas de sklearn (con el fin de validar las métricas que se calcularán), y numpy para manipular los datos."
   ]
  },
  {
   "cell_type": "code",
   "execution_count": 5,
   "metadata": {},
   "outputs": [],
   "source": [
    "from sklearn.datasets import load_digits\n",
    "from sklearn.metrics import accuracy_score\n",
    "import numpy as np"
   ]
  },
  {
   "cell_type": "markdown",
   "metadata": {},
   "source": [
    "Luego, cargamos los dígitos y construimos las salidas para el modelo predictivo de 4 y de 6 (y4 y y6 respectivamente). Las entradas x serán iguales en ambos casos por lo que no es necesario realizar ninguna preparación. Las salidas se llevaran a una forma binaria, uno si corresponde al número que se va a predecir, cero en caso contrario."
   ]
  },
  {
   "cell_type": "code",
   "execution_count": 34,
   "metadata": {},
   "outputs": [
    {
     "name": "stdout",
     "output_type": "stream",
     "text": [
      "0 40.0 11.0\n",
      "1 56.0 17.0\n",
      "2 39.0 7.0\n",
      "3 75.0 11.0\n",
      "4 77.0 21.0\n",
      "5 78.0 32.0\n",
      "6 75.0 33.0\n",
      "7 62.0 22.0\n",
      "Se han construido las salidas...\n"
     ]
    }
   ],
   "source": [
    "# Obtener todos los digitos\n",
    "digits = load_digits()\n",
    "# Obtener las entradas\n",
    "x = digits.images\n",
    "# Obtener las salidas\n",
    "y = digits.target\n",
    "y4 = []\n",
    "y6 = []\n",
    "for i in range(0,len(x)):\n",
    "    if(y[i]==4):\n",
    "        y4.append(1)\n",
    "        y6.append(0)\n",
    "    elif(y[i]==6):\n",
    "        y4.append(0)\n",
    "        y6.append(1)\n",
    "    else:\n",
    "        y4.append(0)\n",
    "        y6.append(0)\n",
    "print('Se han construido las salidas...')"
   ]
  },
  {
   "cell_type": "markdown",
   "metadata": {},
   "source": [
    "Posteriormente, construimos las funciones para:\n",
    "\n",
    "1. Verificar si es un cuatro\n",
    "2. Verificar si es un seis\n",
    "3. Calcular el accuracy\n",
    "\n",
    "Las entradas son matrices de 8 x 8. Los dígitos escritos a mano estan expresados en estas matrices en valores numericos. Para analizar el número que tienen las matrices se sumará en cada entrada las filas de la matriz, por lo que se obtendra un vector de 8 x 1, donde cada posición representa la suma de la fila. Luego se añadiran ciertas condiciones sobre cada posición del vector para determinar si es un 4, o un 6, para cada modelo."
   ]
  },
  {
   "cell_type": "code",
   "execution_count": 39,
   "metadata": {},
   "outputs": [],
   "source": [
    "# Retorna boolean indicando si la matriz que se recibio como parametro contiene un cuatro\n",
    "def is_four(matrix):\n",
    "    # Suma de las filas de la matriz\n",
    "    vector = np.sum(matrix,axis=1)\n",
    "    # verificar las condiciones\n",
    "    if( vector[0] >= 10.0 and vector[0]  <= 40.0 and\n",
    "        vector[1] >= 15.0 and vector[3]  <= 48.0 and\n",
    "        vector[2] >= 18.0 and vector[4]  <= 62.0 and\n",
    "        vector[3] >= 20.0 and vector[0]  <= 82.0 and\n",
    "        vector[4] >= 23.0 and vector[3]  <= 87.0 and\n",
    "        vector[5] >= 20.0 and vector[4]  <= 85.0 and\n",
    "        vector[5] >= 14.0 and vector[4]  <= 85.0 and\n",
    "        vector[6] >= 12.0 and vector[7]  <= 31.0):\n",
    "        return True\n",
    "    else:\n",
    "        return False\n",
    "\n",
    "# Retorna boolean indicando si la matriz que se recibio como parametro contiene un seis\n",
    "def is_six(matrix):\n",
    "    # Suma de las filas de la matriz\n",
    "    vector = np.sum(matrix,axis=1)\n",
    "    # verificar las condiciones\n",
    "    if( vector[0] >= 11.0 and vector[0]  <= 40.0 and\n",
    "        vector[1] >= 17.0 and vector[3]  <= 56.0 and\n",
    "        vector[2] >= 7.0 and vector[4]  <= 39.0 and\n",
    "        vector[3] >= 11.0 and vector[0]  <= 75.0 and\n",
    "        vector[4] >= 21.0 and vector[3]  <= 77.0 and\n",
    "        vector[5] >= 32.0 and vector[4]  <= 78.0 and\n",
    "        vector[5] >= 33.0 and vector[4]  <= 75.0 and\n",
    "        vector[6] >= 22.0 and vector[7]  <= 62.0):\n",
    "        return True\n",
    "    else:\n",
    "        return False\n",
    "        \n",
    "# Retorna accuracy con respecto a las predicciones\n",
    "def get_accuracy(y_true, y_pred):\n",
    "    TP,FN,TN,FP = 0.,0.,0.,0.\n",
    "    for i in range(len(y_true)):\n",
    "        if(y_true[i] == y_pred[i] and y_true[i]==1):\n",
    "            TP+=1.0\n",
    "        elif(y_true[i] != y_pred[i] and y_true[i]==1):\n",
    "            FN+=1.0\n",
    "        elif(y_true[i] == y_pred[i] and y_true[i]==0):\n",
    "            TN+=1.0\n",
    "        elif(y_true[i] != y_pred[i] and y_true[i]==0):\n",
    "            FP+=1.0\n",
    "    accuracy = (TP+TN) / (TP+TN+FP+FN)\n",
    "    return accuracy"
   ]
  },
  {
   "cell_type": "markdown",
   "metadata": {},
   "source": [
    "Luego, verificamos como desempeña el modelo predictivo para el número cuatro"
   ]
  },
  {
   "cell_type": "code",
   "execution_count": 41,
   "metadata": {},
   "outputs": [
    {
     "name": "stdout",
     "output_type": "stream",
     "text": [
      "Accuracy:           0.8686700055648303\n",
      "Sklearn accuracy:   0.8686700055648303\n"
     ]
    }
   ],
   "source": [
    "# Inicializamos el arreglo para guardar las predicciones\n",
    "y4_pred = []\n",
    "# Iteramos sobre las entradas\n",
    "for i in range(len(x)):\n",
    "    # Obtenemos las predicciones\n",
    "    y4_pred.append(is_four(x[i]))\n",
    "    \n",
    "# Calculamos el accuracy\n",
    "print('Accuracy:           '+ str(get_accuracy(y4,y4_pred)))\n",
    "# Verificamos que el accuracy esté bien calculado\n",
    "print('Sklearn accuracy:   '+ str(accuracy_score(y4,y4_pred)))"
   ]
  },
  {
   "cell_type": "markdown",
   "metadata": {},
   "source": [
    "Finalmente, verificamos como desempeña el modelo predictivo para el número seis."
   ]
  },
  {
   "cell_type": "code",
   "execution_count": 40,
   "metadata": {},
   "outputs": [
    {
     "name": "stdout",
     "output_type": "stream",
     "text": [
      "Accuracy:           0.8041179744017808\n",
      "Sklearn accuracy:   0.8041179744017808\n"
     ]
    }
   ],
   "source": [
    "# Inicializamos el arreglo para guardar las predicciones\n",
    "y6_pred = []\n",
    "# Iteramos sobre las entradas\n",
    "for i in range(len(x)):\n",
    "    # Obtenemos las predicciones\n",
    "    y6_pred.append(is_six(x[i]))\n",
    "    \n",
    "# Calculamos el accuracy\n",
    "print('Accuracy:           '+ str(get_accuracy(y6,y6_pred)))\n",
    "# Verificamos que el accuracy esté bien calculado\n",
    "print('Sklearn accuracy:   '+ str(accuracy_score(y6,y6_pred)))"
   ]
  },
  {
   "cell_type": "code",
   "execution_count": null,
   "metadata": {},
   "outputs": [],
   "source": []
  }
 ],
 "metadata": {
  "kernelspec": {
   "display_name": "Python 3",
   "language": "python",
   "name": "python3"
  },
  "language_info": {
   "codemirror_mode": {
    "name": "ipython",
    "version": 3
   },
   "file_extension": ".py",
   "mimetype": "text/x-python",
   "name": "python",
   "nbconvert_exporter": "python",
   "pygments_lexer": "ipython3",
   "version": "3.6.6"
  }
 },
 "nbformat": 4,
 "nbformat_minor": 2
}
