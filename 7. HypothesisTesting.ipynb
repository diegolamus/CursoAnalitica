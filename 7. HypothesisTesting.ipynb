{
 "cells": [
  {
   "cell_type": "markdown",
   "metadata": {},
   "source": [
    "# Pruebas de hipótesis"
   ]
  },
  {
   "cell_type": "markdown",
   "metadata": {},
   "source": [
    "Vamos a analizar los tamaños de los cerebros en las personas\n"
   ]
  },
  {
   "cell_type": "code",
   "execution_count": 1,
   "metadata": {},
   "outputs": [],
   "source": [
    "from scipy import stats\n",
    "import pandas"
   ]
  },
  {
   "cell_type": "markdown",
   "metadata": {},
   "source": [
    "Leer el archivo"
   ]
  },
  {
   "cell_type": "code",
   "execution_count": 2,
   "metadata": {},
   "outputs": [
    {
     "name": "stdout",
     "output_type": "stream",
     "text": [
      "320\n",
      "(40, 8)\n"
     ]
    },
    {
     "data": {
      "text/html": [
       "<div>\n",
       "<style scoped>\n",
       "    .dataframe tbody tr th:only-of-type {\n",
       "        vertical-align: middle;\n",
       "    }\n",
       "\n",
       "    .dataframe tbody tr th {\n",
       "        vertical-align: top;\n",
       "    }\n",
       "\n",
       "    .dataframe thead th {\n",
       "        text-align: right;\n",
       "    }\n",
       "</style>\n",
       "<table border=\"1\" class=\"dataframe\">\n",
       "  <thead>\n",
       "    <tr style=\"text-align: right;\">\n",
       "      <th></th>\n",
       "      <th>ID</th>\n",
       "      <th>Gender</th>\n",
       "      <th>FSIQ</th>\n",
       "      <th>VIQ</th>\n",
       "      <th>PIQ</th>\n",
       "      <th>Weight</th>\n",
       "      <th>Height</th>\n",
       "      <th>MRI_Count</th>\n",
       "    </tr>\n",
       "  </thead>\n",
       "  <tbody>\n",
       "    <tr>\n",
       "      <th>0</th>\n",
       "      <td>1</td>\n",
       "      <td>Female</td>\n",
       "      <td>133</td>\n",
       "      <td>132</td>\n",
       "      <td>124</td>\n",
       "      <td>118.0</td>\n",
       "      <td>64.5</td>\n",
       "      <td>816932</td>\n",
       "    </tr>\n",
       "    <tr>\n",
       "      <th>1</th>\n",
       "      <td>2</td>\n",
       "      <td>Male</td>\n",
       "      <td>140</td>\n",
       "      <td>150</td>\n",
       "      <td>124</td>\n",
       "      <td>NaN</td>\n",
       "      <td>72.5</td>\n",
       "      <td>1001121</td>\n",
       "    </tr>\n",
       "    <tr>\n",
       "      <th>2</th>\n",
       "      <td>3</td>\n",
       "      <td>Male</td>\n",
       "      <td>139</td>\n",
       "      <td>123</td>\n",
       "      <td>150</td>\n",
       "      <td>143.0</td>\n",
       "      <td>73.3</td>\n",
       "      <td>1038437</td>\n",
       "    </tr>\n",
       "    <tr>\n",
       "      <th>3</th>\n",
       "      <td>4</td>\n",
       "      <td>Male</td>\n",
       "      <td>133</td>\n",
       "      <td>129</td>\n",
       "      <td>128</td>\n",
       "      <td>172.0</td>\n",
       "      <td>68.8</td>\n",
       "      <td>965353</td>\n",
       "    </tr>\n",
       "    <tr>\n",
       "      <th>4</th>\n",
       "      <td>5</td>\n",
       "      <td>Female</td>\n",
       "      <td>137</td>\n",
       "      <td>132</td>\n",
       "      <td>134</td>\n",
       "      <td>147.0</td>\n",
       "      <td>65.0</td>\n",
       "      <td>951545</td>\n",
       "    </tr>\n",
       "  </tbody>\n",
       "</table>\n",
       "</div>"
      ],
      "text/plain": [
       "   ID  Gender  FSIQ  VIQ  PIQ  Weight  Height  MRI_Count\n",
       "0   1  Female   133  132  124   118.0    64.5     816932\n",
       "1   2    Male   140  150  124     NaN    72.5    1001121\n",
       "2   3    Male   139  123  150   143.0    73.3    1038437\n",
       "3   4    Male   133  129  128   172.0    68.8     965353\n",
       "4   5  Female   137  132  134   147.0    65.0     951545"
      ]
     },
     "execution_count": 2,
     "metadata": {},
     "output_type": "execute_result"
    }
   ],
   "source": [
    "data = pandas.read_csv('7. brain_size.csv', sep=';', na_values=\".\")\n",
    "print(data.size)\n",
    "print(data.shape)\n",
    "data.head(5)"
   ]
  },
  {
   "cell_type": "code",
   "execution_count": 3,
   "metadata": {},
   "outputs": [
    {
     "data": {
      "text/html": [
       "<div>\n",
       "<style scoped>\n",
       "    .dataframe tbody tr th:only-of-type {\n",
       "        vertical-align: middle;\n",
       "    }\n",
       "\n",
       "    .dataframe tbody tr th {\n",
       "        vertical-align: top;\n",
       "    }\n",
       "\n",
       "    .dataframe thead th {\n",
       "        text-align: right;\n",
       "    }\n",
       "</style>\n",
       "<table border=\"1\" class=\"dataframe\">\n",
       "  <thead>\n",
       "    <tr style=\"text-align: right;\">\n",
       "      <th></th>\n",
       "      <th>ID</th>\n",
       "      <th>FSIQ</th>\n",
       "      <th>VIQ</th>\n",
       "      <th>PIQ</th>\n",
       "      <th>Weight</th>\n",
       "      <th>Height</th>\n",
       "      <th>MRI_Count</th>\n",
       "    </tr>\n",
       "  </thead>\n",
       "  <tbody>\n",
       "    <tr>\n",
       "      <th>count</th>\n",
       "      <td>40.000000</td>\n",
       "      <td>40.000000</td>\n",
       "      <td>40.000000</td>\n",
       "      <td>40.00000</td>\n",
       "      <td>38.000000</td>\n",
       "      <td>39.000000</td>\n",
       "      <td>4.000000e+01</td>\n",
       "    </tr>\n",
       "    <tr>\n",
       "      <th>mean</th>\n",
       "      <td>20.500000</td>\n",
       "      <td>113.450000</td>\n",
       "      <td>112.350000</td>\n",
       "      <td>111.02500</td>\n",
       "      <td>151.052632</td>\n",
       "      <td>68.525641</td>\n",
       "      <td>9.087550e+05</td>\n",
       "    </tr>\n",
       "    <tr>\n",
       "      <th>std</th>\n",
       "      <td>11.690452</td>\n",
       "      <td>24.082071</td>\n",
       "      <td>23.616107</td>\n",
       "      <td>22.47105</td>\n",
       "      <td>23.478509</td>\n",
       "      <td>3.994649</td>\n",
       "      <td>7.228205e+04</td>\n",
       "    </tr>\n",
       "    <tr>\n",
       "      <th>min</th>\n",
       "      <td>1.000000</td>\n",
       "      <td>77.000000</td>\n",
       "      <td>71.000000</td>\n",
       "      <td>72.00000</td>\n",
       "      <td>106.000000</td>\n",
       "      <td>62.000000</td>\n",
       "      <td>7.906190e+05</td>\n",
       "    </tr>\n",
       "    <tr>\n",
       "      <th>25%</th>\n",
       "      <td>10.750000</td>\n",
       "      <td>89.750000</td>\n",
       "      <td>90.000000</td>\n",
       "      <td>88.25000</td>\n",
       "      <td>135.250000</td>\n",
       "      <td>66.000000</td>\n",
       "      <td>8.559185e+05</td>\n",
       "    </tr>\n",
       "    <tr>\n",
       "      <th>50%</th>\n",
       "      <td>20.500000</td>\n",
       "      <td>116.500000</td>\n",
       "      <td>113.000000</td>\n",
       "      <td>115.00000</td>\n",
       "      <td>146.500000</td>\n",
       "      <td>68.000000</td>\n",
       "      <td>9.053990e+05</td>\n",
       "    </tr>\n",
       "    <tr>\n",
       "      <th>75%</th>\n",
       "      <td>30.250000</td>\n",
       "      <td>135.500000</td>\n",
       "      <td>129.750000</td>\n",
       "      <td>128.00000</td>\n",
       "      <td>172.000000</td>\n",
       "      <td>70.500000</td>\n",
       "      <td>9.500780e+05</td>\n",
       "    </tr>\n",
       "    <tr>\n",
       "      <th>max</th>\n",
       "      <td>40.000000</td>\n",
       "      <td>144.000000</td>\n",
       "      <td>150.000000</td>\n",
       "      <td>150.00000</td>\n",
       "      <td>192.000000</td>\n",
       "      <td>77.000000</td>\n",
       "      <td>1.079549e+06</td>\n",
       "    </tr>\n",
       "  </tbody>\n",
       "</table>\n",
       "</div>"
      ],
      "text/plain": [
       "              ID        FSIQ         VIQ        PIQ      Weight     Height  \\\n",
       "count  40.000000   40.000000   40.000000   40.00000   38.000000  39.000000   \n",
       "mean   20.500000  113.450000  112.350000  111.02500  151.052632  68.525641   \n",
       "std    11.690452   24.082071   23.616107   22.47105   23.478509   3.994649   \n",
       "min     1.000000   77.000000   71.000000   72.00000  106.000000  62.000000   \n",
       "25%    10.750000   89.750000   90.000000   88.25000  135.250000  66.000000   \n",
       "50%    20.500000  116.500000  113.000000  115.00000  146.500000  68.000000   \n",
       "75%    30.250000  135.500000  129.750000  128.00000  172.000000  70.500000   \n",
       "max    40.000000  144.000000  150.000000  150.00000  192.000000  77.000000   \n",
       "\n",
       "          MRI_Count  \n",
       "count  4.000000e+01  \n",
       "mean   9.087550e+05  \n",
       "std    7.228205e+04  \n",
       "min    7.906190e+05  \n",
       "25%    8.559185e+05  \n",
       "50%    9.053990e+05  \n",
       "75%    9.500780e+05  \n",
       "max    1.079549e+06  "
      ]
     },
     "execution_count": 3,
     "metadata": {},
     "output_type": "execute_result"
    }
   ],
   "source": [
    "data.describe()"
   ]
  },
  {
   "cell_type": "markdown",
   "metadata": {},
   "source": [
    "**¿Qué nos permite identificar una primera exploración de los datos?**"
   ]
  },
  {
   "cell_type": "markdown",
   "metadata": {},
   "source": [
    "Vamos a comparar los promedios de uno de los atributos que definen el tamaño del cerebro (\"VIQ\") para las muestra de hombres y mujeres."
   ]
  },
  {
   "cell_type": "code",
   "execution_count": 3,
   "metadata": {},
   "outputs": [
    {
     "name": "stdout",
     "output_type": "stream",
     "text": [
      "prom_mujeres= 109.45\n",
      "prom_hombres= 115.25\n"
     ]
    }
   ],
   "source": [
    "prom_mujeres = data[data['Gender'] == 'Female']['VIQ'].mean()\n",
    "prom_hombres = data[data['Gender'] == 'Male']['VIQ'].mean()\n",
    "print(\"prom_mujeres=\", prom_mujeres)\n",
    "print(\"prom_hombres=\", prom_hombres)"
   ]
  },
  {
   "cell_type": "markdown",
   "metadata": {},
   "source": [
    "Esto también se puede hacer utilizando **groupby** de pandas, que realiza operaciones de agregación para cada atributo del dataframe particionado por los atributos específicados:"
   ]
  },
  {
   "cell_type": "code",
   "execution_count": 4,
   "metadata": {},
   "outputs": [
    {
     "data": {
      "text/html": [
       "<div>\n",
       "<style scoped>\n",
       "    .dataframe tbody tr th:only-of-type {\n",
       "        vertical-align: middle;\n",
       "    }\n",
       "\n",
       "    .dataframe tbody tr th {\n",
       "        vertical-align: top;\n",
       "    }\n",
       "\n",
       "    .dataframe thead th {\n",
       "        text-align: right;\n",
       "    }\n",
       "</style>\n",
       "<table border=\"1\" class=\"dataframe\">\n",
       "  <thead>\n",
       "    <tr style=\"text-align: right;\">\n",
       "      <th></th>\n",
       "      <th>Gender</th>\n",
       "      <th>Female</th>\n",
       "      <th>Male</th>\n",
       "    </tr>\n",
       "  </thead>\n",
       "  <tbody>\n",
       "    <tr>\n",
       "      <th rowspan=\"8\" valign=\"top\">FSIQ</th>\n",
       "      <th>count</th>\n",
       "      <td>20.000000</td>\n",
       "      <td>2.000000e+01</td>\n",
       "    </tr>\n",
       "    <tr>\n",
       "      <th>mean</th>\n",
       "      <td>111.900000</td>\n",
       "      <td>1.150000e+02</td>\n",
       "    </tr>\n",
       "    <tr>\n",
       "      <th>std</th>\n",
       "      <td>23.686327</td>\n",
       "      <td>2.498631e+01</td>\n",
       "    </tr>\n",
       "    <tr>\n",
       "      <th>min</th>\n",
       "      <td>77.000000</td>\n",
       "      <td>8.000000e+01</td>\n",
       "    </tr>\n",
       "    <tr>\n",
       "      <th>25%</th>\n",
       "      <td>90.250000</td>\n",
       "      <td>8.975000e+01</td>\n",
       "    </tr>\n",
       "    <tr>\n",
       "      <th>50%</th>\n",
       "      <td>115.500000</td>\n",
       "      <td>1.180000e+02</td>\n",
       "    </tr>\n",
       "    <tr>\n",
       "      <th>75%</th>\n",
       "      <td>133.000000</td>\n",
       "      <td>1.392500e+02</td>\n",
       "    </tr>\n",
       "    <tr>\n",
       "      <th>max</th>\n",
       "      <td>140.000000</td>\n",
       "      <td>1.440000e+02</td>\n",
       "    </tr>\n",
       "    <tr>\n",
       "      <th rowspan=\"8\" valign=\"top\">Height</th>\n",
       "      <th>count</th>\n",
       "      <td>20.000000</td>\n",
       "      <td>1.900000e+01</td>\n",
       "    </tr>\n",
       "    <tr>\n",
       "      <th>mean</th>\n",
       "      <td>65.765000</td>\n",
       "      <td>7.143158e+01</td>\n",
       "    </tr>\n",
       "    <tr>\n",
       "      <th>std</th>\n",
       "      <td>2.288248</td>\n",
       "      <td>3.283131e+00</td>\n",
       "    </tr>\n",
       "    <tr>\n",
       "      <th>min</th>\n",
       "      <td>62.000000</td>\n",
       "      <td>6.630000e+01</td>\n",
       "    </tr>\n",
       "    <tr>\n",
       "      <th>25%</th>\n",
       "      <td>64.500000</td>\n",
       "      <td>6.890000e+01</td>\n",
       "    </tr>\n",
       "    <tr>\n",
       "      <th>50%</th>\n",
       "      <td>66.000000</td>\n",
       "      <td>7.050000e+01</td>\n",
       "    </tr>\n",
       "    <tr>\n",
       "      <th>75%</th>\n",
       "      <td>66.875000</td>\n",
       "      <td>7.375000e+01</td>\n",
       "    </tr>\n",
       "    <tr>\n",
       "      <th>max</th>\n",
       "      <td>70.500000</td>\n",
       "      <td>7.700000e+01</td>\n",
       "    </tr>\n",
       "    <tr>\n",
       "      <th rowspan=\"8\" valign=\"top\">ID</th>\n",
       "      <th>count</th>\n",
       "      <td>20.000000</td>\n",
       "      <td>2.000000e+01</td>\n",
       "    </tr>\n",
       "    <tr>\n",
       "      <th>mean</th>\n",
       "      <td>19.650000</td>\n",
       "      <td>2.135000e+01</td>\n",
       "    </tr>\n",
       "    <tr>\n",
       "      <th>std</th>\n",
       "      <td>11.356774</td>\n",
       "      <td>1.224863e+01</td>\n",
       "    </tr>\n",
       "    <tr>\n",
       "      <th>min</th>\n",
       "      <td>1.000000</td>\n",
       "      <td>2.000000e+00</td>\n",
       "    </tr>\n",
       "    <tr>\n",
       "      <th>25%</th>\n",
       "      <td>10.250000</td>\n",
       "      <td>1.150000e+01</td>\n",
       "    </tr>\n",
       "    <tr>\n",
       "      <th>50%</th>\n",
       "      <td>18.000000</td>\n",
       "      <td>2.150000e+01</td>\n",
       "    </tr>\n",
       "    <tr>\n",
       "      <th>75%</th>\n",
       "      <td>29.250000</td>\n",
       "      <td>3.225000e+01</td>\n",
       "    </tr>\n",
       "    <tr>\n",
       "      <th>max</th>\n",
       "      <td>38.000000</td>\n",
       "      <td>4.000000e+01</td>\n",
       "    </tr>\n",
       "    <tr>\n",
       "      <th rowspan=\"8\" valign=\"top\">MRI_Count</th>\n",
       "      <th>count</th>\n",
       "      <td>20.000000</td>\n",
       "      <td>2.000000e+01</td>\n",
       "    </tr>\n",
       "    <tr>\n",
       "      <th>mean</th>\n",
       "      <td>862654.600000</td>\n",
       "      <td>9.548554e+05</td>\n",
       "    </tr>\n",
       "    <tr>\n",
       "      <th>std</th>\n",
       "      <td>55893.555780</td>\n",
       "      <td>5.591135e+04</td>\n",
       "    </tr>\n",
       "    <tr>\n",
       "      <th>min</th>\n",
       "      <td>790619.000000</td>\n",
       "      <td>8.799870e+05</td>\n",
       "    </tr>\n",
       "    <tr>\n",
       "      <th>25%</th>\n",
       "      <td>828062.000000</td>\n",
       "      <td>9.195292e+05</td>\n",
       "    </tr>\n",
       "    <tr>\n",
       "      <th>50%</th>\n",
       "      <td>855365.000000</td>\n",
       "      <td>9.472415e+05</td>\n",
       "    </tr>\n",
       "    <tr>\n",
       "      <th>75%</th>\n",
       "      <td>882668.500000</td>\n",
       "      <td>9.734960e+05</td>\n",
       "    </tr>\n",
       "    <tr>\n",
       "      <th>max</th>\n",
       "      <td>991305.000000</td>\n",
       "      <td>1.079549e+06</td>\n",
       "    </tr>\n",
       "    <tr>\n",
       "      <th rowspan=\"8\" valign=\"top\">PIQ</th>\n",
       "      <th>count</th>\n",
       "      <td>20.000000</td>\n",
       "      <td>2.000000e+01</td>\n",
       "    </tr>\n",
       "    <tr>\n",
       "      <th>mean</th>\n",
       "      <td>110.450000</td>\n",
       "      <td>1.116000e+02</td>\n",
       "    </tr>\n",
       "    <tr>\n",
       "      <th>std</th>\n",
       "      <td>21.946046</td>\n",
       "      <td>2.354033e+01</td>\n",
       "    </tr>\n",
       "    <tr>\n",
       "      <th>min</th>\n",
       "      <td>72.000000</td>\n",
       "      <td>7.400000e+01</td>\n",
       "    </tr>\n",
       "    <tr>\n",
       "      <th>25%</th>\n",
       "      <td>93.000000</td>\n",
       "      <td>8.600000e+01</td>\n",
       "    </tr>\n",
       "    <tr>\n",
       "      <th>50%</th>\n",
       "      <td>115.000000</td>\n",
       "      <td>1.170000e+02</td>\n",
       "    </tr>\n",
       "    <tr>\n",
       "      <th>75%</th>\n",
       "      <td>128.750000</td>\n",
       "      <td>1.280000e+02</td>\n",
       "    </tr>\n",
       "    <tr>\n",
       "      <th>max</th>\n",
       "      <td>147.000000</td>\n",
       "      <td>1.500000e+02</td>\n",
       "    </tr>\n",
       "    <tr>\n",
       "      <th rowspan=\"8\" valign=\"top\">VIQ</th>\n",
       "      <th>count</th>\n",
       "      <td>20.000000</td>\n",
       "      <td>2.000000e+01</td>\n",
       "    </tr>\n",
       "    <tr>\n",
       "      <th>mean</th>\n",
       "      <td>109.450000</td>\n",
       "      <td>1.152500e+02</td>\n",
       "    </tr>\n",
       "    <tr>\n",
       "      <th>std</th>\n",
       "      <td>21.670924</td>\n",
       "      <td>2.564099e+01</td>\n",
       "    </tr>\n",
       "    <tr>\n",
       "      <th>min</th>\n",
       "      <td>71.000000</td>\n",
       "      <td>7.700000e+01</td>\n",
       "    </tr>\n",
       "    <tr>\n",
       "      <th>25%</th>\n",
       "      <td>90.000000</td>\n",
       "      <td>9.525000e+01</td>\n",
       "    </tr>\n",
       "    <tr>\n",
       "      <th>50%</th>\n",
       "      <td>116.000000</td>\n",
       "      <td>1.105000e+02</td>\n",
       "    </tr>\n",
       "    <tr>\n",
       "      <th>75%</th>\n",
       "      <td>129.000000</td>\n",
       "      <td>1.450000e+02</td>\n",
       "    </tr>\n",
       "    <tr>\n",
       "      <th>max</th>\n",
       "      <td>136.000000</td>\n",
       "      <td>1.500000e+02</td>\n",
       "    </tr>\n",
       "    <tr>\n",
       "      <th rowspan=\"8\" valign=\"top\">Weight</th>\n",
       "      <th>count</th>\n",
       "      <td>20.000000</td>\n",
       "      <td>1.800000e+01</td>\n",
       "    </tr>\n",
       "    <tr>\n",
       "      <th>mean</th>\n",
       "      <td>137.200000</td>\n",
       "      <td>1.664444e+02</td>\n",
       "    </tr>\n",
       "    <tr>\n",
       "      <th>std</th>\n",
       "      <td>16.953807</td>\n",
       "      <td>2.004766e+01</td>\n",
       "    </tr>\n",
       "    <tr>\n",
       "      <th>min</th>\n",
       "      <td>106.000000</td>\n",
       "      <td>1.320000e+02</td>\n",
       "    </tr>\n",
       "    <tr>\n",
       "      <th>25%</th>\n",
       "      <td>125.750000</td>\n",
       "      <td>1.487500e+02</td>\n",
       "    </tr>\n",
       "    <tr>\n",
       "      <th>50%</th>\n",
       "      <td>138.500000</td>\n",
       "      <td>1.720000e+02</td>\n",
       "    </tr>\n",
       "    <tr>\n",
       "      <th>75%</th>\n",
       "      <td>146.250000</td>\n",
       "      <td>1.807500e+02</td>\n",
       "    </tr>\n",
       "    <tr>\n",
       "      <th>max</th>\n",
       "      <td>175.000000</td>\n",
       "      <td>1.920000e+02</td>\n",
       "    </tr>\n",
       "  </tbody>\n",
       "</table>\n",
       "</div>"
      ],
      "text/plain": [
       "Gender                  Female          Male\n",
       "FSIQ      count      20.000000  2.000000e+01\n",
       "          mean      111.900000  1.150000e+02\n",
       "          std        23.686327  2.498631e+01\n",
       "          min        77.000000  8.000000e+01\n",
       "          25%        90.250000  8.975000e+01\n",
       "          50%       115.500000  1.180000e+02\n",
       "          75%       133.000000  1.392500e+02\n",
       "          max       140.000000  1.440000e+02\n",
       "Height    count      20.000000  1.900000e+01\n",
       "          mean       65.765000  7.143158e+01\n",
       "          std         2.288248  3.283131e+00\n",
       "          min        62.000000  6.630000e+01\n",
       "          25%        64.500000  6.890000e+01\n",
       "          50%        66.000000  7.050000e+01\n",
       "          75%        66.875000  7.375000e+01\n",
       "          max        70.500000  7.700000e+01\n",
       "ID        count      20.000000  2.000000e+01\n",
       "          mean       19.650000  2.135000e+01\n",
       "          std        11.356774  1.224863e+01\n",
       "          min         1.000000  2.000000e+00\n",
       "          25%        10.250000  1.150000e+01\n",
       "          50%        18.000000  2.150000e+01\n",
       "          75%        29.250000  3.225000e+01\n",
       "          max        38.000000  4.000000e+01\n",
       "MRI_Count count      20.000000  2.000000e+01\n",
       "          mean   862654.600000  9.548554e+05\n",
       "          std     55893.555780  5.591135e+04\n",
       "          min    790619.000000  8.799870e+05\n",
       "          25%    828062.000000  9.195292e+05\n",
       "          50%    855365.000000  9.472415e+05\n",
       "          75%    882668.500000  9.734960e+05\n",
       "          max    991305.000000  1.079549e+06\n",
       "PIQ       count      20.000000  2.000000e+01\n",
       "          mean      110.450000  1.116000e+02\n",
       "          std        21.946046  2.354033e+01\n",
       "          min        72.000000  7.400000e+01\n",
       "          25%        93.000000  8.600000e+01\n",
       "          50%       115.000000  1.170000e+02\n",
       "          75%       128.750000  1.280000e+02\n",
       "          max       147.000000  1.500000e+02\n",
       "VIQ       count      20.000000  2.000000e+01\n",
       "          mean      109.450000  1.152500e+02\n",
       "          std        21.670924  2.564099e+01\n",
       "          min        71.000000  7.700000e+01\n",
       "          25%        90.000000  9.525000e+01\n",
       "          50%       116.000000  1.105000e+02\n",
       "          75%       129.000000  1.450000e+02\n",
       "          max       136.000000  1.500000e+02\n",
       "Weight    count      20.000000  1.800000e+01\n",
       "          mean      137.200000  1.664444e+02\n",
       "          std        16.953807  2.004766e+01\n",
       "          min       106.000000  1.320000e+02\n",
       "          25%       125.750000  1.487500e+02\n",
       "          50%       138.500000  1.720000e+02\n",
       "          75%       146.250000  1.807500e+02\n",
       "          max       175.000000  1.920000e+02"
      ]
     },
     "execution_count": 4,
     "metadata": {},
     "output_type": "execute_result"
    }
   ],
   "source": [
    "agg_genero = data.groupby('Gender')\n",
    "agg_genero.describe().transpose()"
   ]
  },
  {
   "cell_type": "markdown",
   "metadata": {},
   "source": [
    "Se pueden obtener los datos específicos a un operador de agregación como el promedio:"
   ]
  },
  {
   "cell_type": "code",
   "execution_count": 6,
   "metadata": {},
   "outputs": [
    {
     "data": {
      "text/html": [
       "<div>\n",
       "<style scoped>\n",
       "    .dataframe tbody tr th:only-of-type {\n",
       "        vertical-align: middle;\n",
       "    }\n",
       "\n",
       "    .dataframe tbody tr th {\n",
       "        vertical-align: top;\n",
       "    }\n",
       "\n",
       "    .dataframe thead th {\n",
       "        text-align: right;\n",
       "    }\n",
       "</style>\n",
       "<table border=\"1\" class=\"dataframe\">\n",
       "  <thead>\n",
       "    <tr style=\"text-align: right;\">\n",
       "      <th></th>\n",
       "      <th>ID</th>\n",
       "      <th>FSIQ</th>\n",
       "      <th>VIQ</th>\n",
       "      <th>PIQ</th>\n",
       "      <th>Weight</th>\n",
       "      <th>Height</th>\n",
       "      <th>MRI_Count</th>\n",
       "    </tr>\n",
       "    <tr>\n",
       "      <th>Gender</th>\n",
       "      <th></th>\n",
       "      <th></th>\n",
       "      <th></th>\n",
       "      <th></th>\n",
       "      <th></th>\n",
       "      <th></th>\n",
       "      <th></th>\n",
       "    </tr>\n",
       "  </thead>\n",
       "  <tbody>\n",
       "    <tr>\n",
       "      <th>Female</th>\n",
       "      <td>19.65</td>\n",
       "      <td>111.9</td>\n",
       "      <td>109.45</td>\n",
       "      <td>110.45</td>\n",
       "      <td>137.200000</td>\n",
       "      <td>65.765000</td>\n",
       "      <td>862654.6</td>\n",
       "    </tr>\n",
       "    <tr>\n",
       "      <th>Male</th>\n",
       "      <td>21.35</td>\n",
       "      <td>115.0</td>\n",
       "      <td>115.25</td>\n",
       "      <td>111.60</td>\n",
       "      <td>166.444444</td>\n",
       "      <td>71.431579</td>\n",
       "      <td>954855.4</td>\n",
       "    </tr>\n",
       "  </tbody>\n",
       "</table>\n",
       "</div>"
      ],
      "text/plain": [
       "           ID   FSIQ     VIQ     PIQ      Weight     Height  MRI_Count\n",
       "Gender                                                                \n",
       "Female  19.65  111.9  109.45  110.45  137.200000  65.765000   862654.6\n",
       "Male    21.35  115.0  115.25  111.60  166.444444  71.431579   954855.4"
      ]
     },
     "execution_count": 6,
     "metadata": {},
     "output_type": "execute_result"
    }
   ],
   "source": [
    "agg_genero.mean()"
   ]
  },
  {
   "cell_type": "code",
   "execution_count": 5,
   "metadata": {},
   "outputs": [
    {
     "data": {
      "text/plain": [
       "Female         AxesSubplot(0.1,0.15;0.363636x0.75)\n",
       "Male      AxesSubplot(0.536364,0.15;0.363636x0.75)\n",
       "dtype: object"
      ]
     },
     "execution_count": 5,
     "metadata": {},
     "output_type": "execute_result"
    }
   ],
   "source": [
    "agg_genero.boxplot(column=['FSIQ', 'VIQ', 'PIQ'])"
   ]
  },
  {
   "cell_type": "markdown",
   "metadata": {},
   "source": [
    "# Prueba de 1 media"
   ]
  },
  {
   "cell_type": "markdown",
   "metadata": {},
   "source": [
    "Se hicieron medidas del VIQ en el pasado y se obtuvo un promedio de 110 para los hombres y 99 para las mujeres.\n",
    "Se tomaron muestras actuales y al parecer los valores promedios de VIQ indicarían a primera vista que hay cambios en los valores del VIQ."
   ]
  },
  {
   "cell_type": "code",
   "execution_count": 8,
   "metadata": {},
   "outputs": [
    {
     "name": "stdout",
     "output_type": "stream",
     "text": [
      "Hombres(VIQ): 115.25\n",
      "Mujeres(VIQ): 109.45\n"
     ]
    }
   ],
   "source": [
    "print(\"Hombres(VIQ):\", data[data['Gender'] == 'Male']['VIQ'].mean())\n",
    "print(\"Mujeres(VIQ):\", data[data['Gender'] == 'Female']['VIQ'].mean())"
   ]
  },
  {
   "cell_type": "markdown",
   "metadata": {},
   "source": [
    "Queremos analizar estadísticamente si estas medidas han cambiado o siguen iguales a partir del análisis de las muestras de las que disponemos."
   ]
  },
  {
   "cell_type": "markdown",
   "metadata": {},
   "source": [
    "1. **Establezca la prueba a realizar (hipótesis nula, alternativa, tipo de prueba, confianza, significancia, posibles conclusiones)**\n",
    "2. **Utilice scipy.stats para ejecutar la prueba**"
   ]
  },
  {
   "cell_type": "markdown",
   "metadata": {},
   "source": [
    "## Prueba para los hombres\n",
    "\n",
    "**H0**: los hombres siguen teniendo un valor de VIQ de 110. $\\mu_{Hombres}=110$\n",
    "\n",
    "**Ha**: los hombres ya no tienen un valor de VIQ de 110. $\\mu_{Hombres}\\neq 110$\n",
    "\n",
    "Se va a realizar una prueba T de 1 medial, con un nivel de confianza del 95%, por lo que la significancia (alpha) sera del 5%.\n",
    "\n",
    "Las posibles conclusiones son:\n",
    "* Si el valor-p < alpha: se rechaza la hipótesis nula en favor de la hipótesis alternativa, por lo que se puede decir, con un nivel de confianza del 95%, que los hombres ya no tienen un valor de VIQ de 110.\n",
    "* Si el valor-p > alpha: no se puede rechazar la hipótesis nula, puede que no haya suficiente información para hacerlo, por lo que no se puede decir, con un nivel de confianza del 95%, si los hombres siguen teniendo un VIQ de 110 o no."
   ]
  },
  {
   "cell_type": "code",
   "execution_count": 9,
   "metadata": {},
   "outputs": [],
   "source": [
    "from scipy import stats"
   ]
  },
  {
   "cell_type": "code",
   "execution_count": 10,
   "metadata": {},
   "outputs": [
    {
     "data": {
      "text/plain": [
       "Ttest_1sampResult(statistic=0.9156709994481053, pvalue=0.3713154747160655)"
      ]
     },
     "execution_count": 10,
     "metadata": {},
     "output_type": "execute_result"
    }
   ],
   "source": [
    "stats.ttest_1samp(data[data['Gender'] == 'Male']['VIQ'], 110)"
   ]
  },
  {
   "cell_type": "markdown",
   "metadata": {},
   "source": [
    "Como tenemos que el valor-P es de 37.13%, superior al nivel de significancia de 5%, no podemos rechazar la hipótesis nula, y no podemos decir si el valor del VIQ de los hombres ha cambiado o no."
   ]
  },
  {
   "cell_type": "markdown",
   "metadata": {},
   "source": [
    "## Prueba para las mujeres\n",
    "\n",
    "**H0**: las mujeres siguen teniendo un valor de VIQ de 99. $\\mu_{Mujeres}=99$\n",
    "\n",
    "**Ha**: las mujeres ya no tienen un valor de VIQ de 99. $\\mu_{Mujeres}\\neq 99$\n",
    "\n",
    "Se va a realizar una prueba T de 1 medial, con un nivel de confianza del 95%, por lo que la significancia (alpha) sera del 5%.\n",
    "\n",
    "Las posibles conclusiones son:\n",
    "* Si el valor-p < alpha: se rechaza la hipótesis nula en favor de la hipótesis alternativa, por lo que se puede decir, con un nivel de confianza del 95%, que las mujeres ya no tienen un valor de VIQ de 99.\n",
    "* Si el valor-p > alpha: no se puede rechazar la hipótesis nula, puede que no haya suficiente información para hacerlo, por lo que no se puede decir, con un nivel de confianza del 95%, si las mujeres siguen teniendo un VIQ de 99 o no."
   ]
  },
  {
   "cell_type": "code",
   "execution_count": 11,
   "metadata": {},
   "outputs": [
    {
     "data": {
      "text/plain": [
       "Ttest_1sampResult(statistic=2.15652183137645, pvalue=0.04406616069561085)"
      ]
     },
     "execution_count": 11,
     "metadata": {},
     "output_type": "execute_result"
    }
   ],
   "source": [
    "stats.ttest_1samp(data[data['Gender'] == 'Female']['VIQ'], 99)"
   ]
  },
  {
   "cell_type": "markdown",
   "metadata": {},
   "source": [
    "Como tenemos que el valor-P es de 4.41%, inferior al nivel de significancia de 5%, podemos rechazar la hipótesis nula en favor de la hipótesis alternativa, y concluir que el valor del VIQ de las mujeres ya no es de 99."
   ]
  },
  {
   "cell_type": "markdown",
   "metadata": {},
   "source": [
    "# Prueba de diferencia de medias"
   ]
  },
  {
   "cell_type": "markdown",
   "metadata": {},
   "source": [
    "Ahora queremos comparar los valores actuales del VIQ de los hombres y las mujeres para establecer si son iguales o no."
   ]
  },
  {
   "cell_type": "markdown",
   "metadata": {},
   "source": [
    "1. **Establezca la prueba a realizar (hipótesis nula, alternativa, tipo de prueba, confianza, significancia, posibles conclusiones)**\n",
    "2. **Utilice scipy.stats para ejecutar la prueba**"
   ]
  },
  {
   "cell_type": "markdown",
   "metadata": {},
   "source": [
    "**H0**: los hombres y las mujeres tienen cerebros (medida VIQ) del mismo tamaño\n",
    "\n",
    "**Ha**: los hombres y las mujeres tienen cerebros (medida VIQ) de tamaño diferente\n",
    "\n",
    "Se va a realizar una prueba T de muestras independientes, con un nivel de confianza del 95%, por lo que la significancia (alpha) sera del 5%.\n",
    "\n",
    "Las posibles conclusiones son:\n",
    "* Si el valor-p < alpha: se rechaza la hipótesis nula en favor de la hipótesis alternativa, por lo que se puede decir, con un nivel de confianza del 95%, que los cerebros de los hombres son diferentes a los de las mujeres.\n",
    "* Si el valor-p > alpha: no se puede rechazar la hipótesis nula, puede que no haya suficiente información para hacerlo, por lo que no se puede decir, con un nivel de confianza del 95%, si los cerebros de los hombres son diferentes a los de las mujeres o no.\n"
   ]
  },
  {
   "cell_type": "code",
   "execution_count": 12,
   "metadata": {},
   "outputs": [
    {
     "data": {
      "text/plain": [
       "Ttest_indResult(statistic=0.7726161723275011, pvalue=0.44452876778583217)"
      ]
     },
     "execution_count": 12,
     "metadata": {},
     "output_type": "execute_result"
    }
   ],
   "source": [
    "stats.ttest_ind(data[data['Gender'] == 'Male']['VIQ'], data[data['Gender'] == 'Female']['VIQ'])"
   ]
  },
  {
   "cell_type": "markdown",
   "metadata": {},
   "source": [
    "Como tenemos que el valor-P es de 44.45%, superior al nivel de significancia de 5%, no podemos rechazar la hipótesis nula, y no podemos decir si el valor del VIQ de los hombres es diferente al de las mujeres."
   ]
  },
  {
   "cell_type": "markdown",
   "metadata": {},
   "source": [
    "<font color='red'>Realice las pruebas comparando los valores de los atributos PIQ y FSIQ para hombre y mujeres y concluya.</font>"
   ]
  },
  {
   "cell_type": "markdown",
   "metadata": {},
   "source": [
    "### PIQ\n",
    "\n",
    "Ahora queremos comparar los valores actuales del PIQ de los hombres y las mujeres para establecer si son iguales o no.\n",
    "\n",
    "**H0:** los hombres y las mujeres tienen medida PIQ igual  \n",
    "\n",
    "**Ha:** los hombres y las mujeres tienen medida PIQ diferente\n",
    "\n",
    "Se va a realizar una prueba T de muestras independientes, con un nivel de confianza del 95%, por lo que la significancia (alpha) sera del 5%.\n",
    "Las posibles conclusiones son: \n",
    "\n",
    "* Si el valor-p < alpha: se rechaza la hipótesis nula en favor de la hipótesis alternativa, por lo que se puede decir, con un nivel de confianza del 95%, que la medida PIQ de los hombres es diferente a la de las mujeres.\n",
    "* Si el valor-p > alpha: no se puede rechazar la hipótesis nula, puede que no haya suficiente información para hacerlo, por lo que no se puede decir, con un nivel de confianza del 95%, si la medida PIQ de los hombres es diferente a la de las mujeres o no."
   ]
  },
  {
   "cell_type": "code",
   "execution_count": 6,
   "metadata": {},
   "outputs": [
    {
     "data": {
      "text/plain": [
       "Ttest_indResult(statistic=0.15980113150762698, pvalue=0.8738841403250049)"
      ]
     },
     "execution_count": 6,
     "metadata": {},
     "output_type": "execute_result"
    }
   ],
   "source": [
    "stats.ttest_ind(data[data['Gender'] == 'Male']['PIQ'], data[data['Gender'] == 'Female']['PIQ'])"
   ]
  },
  {
   "cell_type": "markdown",
   "metadata": {},
   "source": [
    "Como el valor-P es de 87,3%, seuperior al nivel de significancia de 5%, no podemos rechazar la hipótesis nula, y no podemos decir si el valos PIQ de los hombres es diferente al de las muejeres."
   ]
  },
  {
   "cell_type": "markdown",
   "metadata": {},
   "source": [
    "### FISQ\n",
    "\n",
    "Ahora queremos comparar los valores actuales del FISQ de los hombres y las mujeres para establecer si son iguales o no.\n",
    "\n",
    "**H0:** los hombres y las mujeres tienen medida FISQ igual  \n",
    "\n",
    "**Ha:** los hombres y las mujeres tienen medida FISQ diferente\n",
    "\n",
    "Se va a realizar una prueba T de muestras independientes, con un nivel de confianza del 95%, por lo que la significancia (alpha) sera del 5%.\n",
    "Las posibles conclusiones son: \n",
    "\n",
    "* Si el valor-p < alpha: se rechaza la hipótesis nula en favor de la hipótesis alternativa, por lo que se puede decir, con un nivel de confianza del 95%, que la medida FISQ de los hombres es diferente a la de las mujeres.\n",
    "* Si el valor-p > alpha: no se puede rechazar la hipótesis nula, puede que no haya suficiente información para hacerlo, por lo que no se puede decir, con un nivel de confianza del 95%, si la medida FISQ de los hombres es diferente a la de las mujeres o no."
   ]
  },
  {
   "cell_type": "code",
   "execution_count": 8,
   "metadata": {},
   "outputs": [
    {
     "data": {
      "text/plain": [
       "Ttest_indResult(statistic=0.4026724743703011, pvalue=0.6894456253897778)"
      ]
     },
     "execution_count": 8,
     "metadata": {},
     "output_type": "execute_result"
    }
   ],
   "source": [
    "stats.ttest_ind(data[data['Gender'] == 'Male']['FSIQ'], data[data['Gender'] == 'Female']['FSIQ'])"
   ]
  },
  {
   "cell_type": "markdown",
   "metadata": {},
   "source": [
    "Como el valor-P es de 68,9%, seuperior al nivel de significancia de 5%, no podemos rechazar la hipótesis nula, y no podemos decir si el valos PIQ de los hombres es diferente al de las muejeres.\n",
    "\n"
   ]
  }
 ],
 "metadata": {
  "kernelspec": {
   "display_name": "Python 3",
   "language": "python",
   "name": "python3"
  },
  "language_info": {
   "codemirror_mode": {
    "name": "ipython",
    "version": 3
   },
   "file_extension": ".py",
   "mimetype": "text/x-python",
   "name": "python",
   "nbconvert_exporter": "python",
   "pygments_lexer": "ipython3",
   "version": "3.6.6"
  }
 },
 "nbformat": 4,
 "nbformat_minor": 2
}
